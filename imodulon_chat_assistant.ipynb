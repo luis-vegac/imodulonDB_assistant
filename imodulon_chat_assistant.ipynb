{
 "cells": [
  {
   "cell_type": "markdown",
   "id": "feee87ce",
   "metadata": {},
   "source": [
    "# iModulon Chatbot Assistant\n",
    "\n",
    "This Jupyter Notebook runs an AI chatbot assistant designed to interact with the [iModulon database](https://imodulondb.org/). The chatbot utilizes OpenAI's GPT-4o model to answer queries, provide information, and assist with data analysis related to iModulons. The assistant also has access to gene information from the [ecocyc database](https://ecocyc.org/).\n",
    "\n",
    "## Overview\n",
    "\n",
    "The notebook is structured as follows:\n",
    "1. **Imports and Setup**: This section includes necessary imports and configurations for running the chatbot.\n",
    "2. **Environment Setup**: Here, you input your OpenAI API key to access the GPT-4o model.\n",
    "3. **Chatbot Initialization**: This part sets up the chatbot, loading necessary tools and defining the chat prompt template.\n",
    "4. **Chat Interface**: A simple interface for interacting with the chatbot, where users can input queries and receive responses.\n",
    "\n",
    "## Functionality\n",
    "\n",
    "The chatbot supports a variety of functions related to iModulons, including but not limited to:\n",
    "- Learning about iModulons\n",
    "- Finding closest iModulon, genes, and conditions\n",
    "- Getting detailed information about genes and conditions\n",
    "- Plotting gene expression and iModulon activity\n",
    "- Comparing gene expression and iModulon activities\n",
    "- Executing Python code for custom analysis\n",
    "\n",
    "## Usage\n",
    "\n",
    "To use the chatbot:\n",
    "1. **Setup**: Ensure you have your OpenAI API key ready and input it when prompted.\n",
    "2. **Run the Notebook**: Execute each cell in the notebook sequentially to initialize the chatbot.\n",
    "3. **Interact**: Type your queries into the chat interface. Use commands like 'exit', 'quit', or 'q' to terminate the session.\n",
    "For detailed examples demonstrating the capabilities of the chatbot, refer to the [example conversations PDF](example_chats/example_chat_2.html).\n",
    "---"
   ]
  },
  {
   "cell_type": "code",
   "execution_count": null,
   "id": "e0a9d9fa",
   "metadata": {},
   "outputs": [],
   "source": [
    "import os\n",
    "import difflib\n",
    "import traceback\n",
    "import getpass\n",
    "import matplotlib.pyplot as plt\n",
    "import numpy as np\n",
    "import pandas as pd\n",
    "from IPython.display import display, HTML, Markdown \n",
    "from langchain_openai import ChatOpenAI\n",
    "from langchain.agents import AgentExecutor, create_tool_calling_agent, load_tools\n",
    "from langchain_core.prompts import ChatPromptTemplate\n",
    "from langchain_core.messages import AIMessage, HumanMessage\n",
    "from langchain_core.tools import tool\n",
    "from imodulon_functions import *"
   ]
  },
  {
   "cell_type": "code",
   "execution_count": null,
   "id": "15dbae6c",
   "metadata": {},
   "outputs": [],
   "source": [
    "os.environ[\"OPENAI_API_KEY\"] =  getpass.getpass(\"OpenAI API Key: \")"
   ]
  },
  {
   "cell_type": "code",
   "execution_count": null,
   "id": "cc55cdfc",
   "metadata": {},
   "outputs": [],
   "source": [
    "llm = ChatOpenAI(model=\"gpt-4o\", temperature=0)\n",
    "with open(\"imodulon_chat_prompt.txt\", \"r\", encoding=\"utf8\") as file:\n",
    "    imodulon_chat_prompt = file.read()\n",
    "\n",
    "tools = [\n",
    "    learn_about_imodulons,\n",
    "    find_closest_imodulon,\n",
    "    find_closest_gene,\n",
    "    find_closest_condition,\n",
    "    get_genes_of_imodulons,\n",
    "    get_condition_info,\n",
    "    get_gene_info,\n",
    "    get_imodulon_info,\n",
    "    plot_gene_expression,\n",
    "    plot_imodulon_activity,\n",
    "    plot_all_imodulon_activities_for_condition,\n",
    "    compare_gene_expression,\n",
    "    compare_imodulon_activities,\n",
    "    plot_dima,\n",
    "    execute_python_code,\n",
    "]\n",
    "llm_with_tools = llm.bind_tools(tools)\n",
    "prompt = ChatPromptTemplate.from_messages([\n",
    "    (\"system\", imodulon_chat_prompt),\n",
    "    (\"placeholder\", \"{chat_history}\"),\n",
    "    (\"human\", \"{input}\"),\n",
    "    (\"placeholder\", \"{agent_scratchpad}\")\n",
    "])\n",
    "\n",
    "agent = create_tool_calling_agent(llm_with_tools, tools, prompt)\n",
    "agent_executor = AgentExecutor(agent=agent, tools=tools, verbose=False)\n",
    "chat_history = []\n",
    "\n",
    "display(HTML(\"\"\"\n",
    "    <style>\n",
    "        .output_wrapper, .output {\n",
    "            height: auto !important;\n",
    "            max-height: 1000px;  \n",
    "            overflow-y: auto;\n",
    "        }\n",
    "    </style>\n",
    "\"\"\"))"
   ]
  },
  {
   "cell_type": "code",
   "execution_count": null,
   "id": "72471500",
   "metadata": {
    "scrolled": true
   },
   "outputs": [],
   "source": [
    "display(Markdown(\"**Welcome to iModulon Chat** <br /> Type 'exit' 'quit' or 'q' to quit  \"))\n",
    "while True:\n",
    "    display(Markdown(\"**Input:**\"))\n",
    "    user_input = input()\n",
    "    if user_input.lower() in ['exit','quit','q']:\n",
    "        break\n",
    "\n",
    "    # Prepare the input for the agent\n",
    "    input_data = {\n",
    "        \"input\": user_input,\n",
    "        \"chat_history\": chat_history\n",
    "    }\n",
    "\n",
    "    # Run the agent\n",
    "    response = agent_executor.invoke(input_data, handle_parsing_errors=True)\n",
    "    string_response = f\"**iM chat:** <br />{response['output']}\"\n",
    "    display(Markdown(string_response))\n",
    "    #print(f\"\\n**iM chat: **{response['output']}\\n\")\n",
    "    # Update the chat history\n",
    "    chat_history.append(HumanMessage(content=user_input))\n",
    "    chat_history.append(AIMessage(content=response['output']))"
   ]
  }
 ],
 "metadata": {
  "kernelspec": {
   "display_name": "Python (imodulon)",
   "language": "python",
   "name": "imodulon"
  },
  "language_info": {
   "codemirror_mode": {
    "name": "ipython",
    "version": 3
   },
   "file_extension": ".py",
   "mimetype": "text/x-python",
   "name": "python",
   "nbconvert_exporter": "python",
   "pygments_lexer": "ipython3",
   "version": "3.8.19"
  }
 },
 "nbformat": 4,
 "nbformat_minor": 5
}
