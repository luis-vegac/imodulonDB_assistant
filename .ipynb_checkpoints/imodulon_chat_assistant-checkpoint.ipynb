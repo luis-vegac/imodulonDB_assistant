{
 "cells": [
  {
   "cell_type": "code",
   "execution_count": null,
   "id": "e0a9d9fa",
   "metadata": {},
   "outputs": [],
   "source": [
    "import os\n",
    "import difflib\n",
    "import traceback\n",
    "import matplotlib.pyplot as plt\n",
    "import numpy as np\n",
    "import pandas as pd\n",
    "from IPython.core.display import display, HTML\n",
    "from langchain_openai import ChatOpenAI\n",
    "from langchain.agents import AgentExecutor, create_tool_calling_agent\n",
    "from langchain_core.prompts import ChatPromptTemplate\n",
    "from langchain_core.messages import AIMessage, HumanMessage\n",
    "from langchain_core.tools import tool\n",
    "from imodulon_functions import *"
   ]
  },
  {
   "cell_type": "code",
   "execution_count": null,
   "id": "cc55cdfc",
   "metadata": {},
   "outputs": [],
   "source": [
    "os.environ[\"OPENAI_API_KEY\"] = input(\"OpenAI API Key: \")\n",
    "llm = ChatOpenAI(model=\"gpt-4o\", temperature=0)\n",
    "# Define the prompt\n",
    "with open(\"imodulon_chat_prompt.txt\", \"r\", encoding=\"utf8\") as file:\n",
    "    imodulon_chat_prompt = file.read()\n",
    "\n",
    "# Initialize the HelloWorld tool\n",
    "tools = [\n",
    "    learn_about_imodulons,\n",
    "    find_closest_imodulon,\n",
    "    find_closest_gene,\n",
    "    find_closest_condition,\n",
    "    get_genes_of_imodulons,\n",
    "    get_condition_info,\n",
    "    get_gene_info,\n",
    "    get_imodulon_info,\n",
    "    plot_gene_expression,\n",
    "    plot_imodulon_activity,\n",
    "    plot_all_imodulon_activities_for_condition,\n",
    "    compare_gene_expression,\n",
    "    compare_imodulon_activities,\n",
    "    plot_dima,\n",
    "    execute_python_code\n",
    "]\n",
    "\n",
    "# Bind the tools to the model\n",
    "llm_with_tools = llm.bind_tools(tools)\n",
    "\n",
    "# Create the prompt template\n",
    "prompt = ChatPromptTemplate.from_messages([\n",
    "    (\"system\", imodulon_chat_prompt),\n",
    "    (\"placeholder\", \"{chat_history}\"),\n",
    "    (\"human\", \"{input}\"),\n",
    "    (\"placeholder\", \"{agent_scratchpad}\")\n",
    "])\n",
    "\n",
    "\n",
    "agent = create_tool_calling_agent(llm_with_tools, tools, prompt)\n",
    "agent_executor = AgentExecutor(agent=agent, tools=tools, verbose=False)\n",
    "chat_history = []"
   ]
  },
  {
   "cell_type": "code",
   "execution_count": null,
   "id": "d6067b50",
   "metadata": {},
   "outputs": [],
   "source": [
    "display(HTML(\"\"\"\n",
    "    <style>\n",
    "        .output_wrapper, .output {\n",
    "            height: auto !important;\n",
    "            max-height: 1000px;  /* Adjust this value as needed */\n",
    "            overflow-y: auto;\n",
    "        }\n",
    "    </style>\n",
    "\"\"\"))"
   ]
  },
  {
   "cell_type": "code",
   "execution_count": null,
   "id": "72471500",
   "metadata": {
    "scrolled": true
   },
   "outputs": [],
   "source": [
    "print(\"Welcome to iModulon Chat. Type 'exit' 'quit' or 'q' to quit\\n\")\n",
    "while True:\n",
    "    user_input = input(\"Input: \")\n",
    "    if user_input.lower() in ['exit','quit','q']:\n",
    "        break\n",
    "\n",
    "    # Prepare the input for the agent\n",
    "    input_data = {\n",
    "        \"input\": user_input,\n",
    "        \"chat_history\": chat_history\n",
    "    }\n",
    "\n",
    "    # Run the agent\n",
    "    response = agent_executor.invoke(input_data)\n",
    "    print(f\"\\n{response['output']}\\n\")\n",
    "    # Update the chat history\n",
    "    chat_history.append(HumanMessage(content=user_input))\n",
    "    chat_history.append(AIMessage(content=response['output']))"
   ]
  }
 ],
 "metadata": {
  "kernelspec": {
   "display_name": "Python (imodulon)",
   "language": "python",
   "name": "imodulon"
  },
  "language_info": {
   "codemirror_mode": {
    "name": "ipython",
    "version": 3
   },
   "file_extension": ".py",
   "mimetype": "text/x-python",
   "name": "python",
   "nbconvert_exporter": "python",
   "pygments_lexer": "ipython3",
   "version": "3.8.19"
  }
 },
 "nbformat": 4,
 "nbformat_minor": 5
}
